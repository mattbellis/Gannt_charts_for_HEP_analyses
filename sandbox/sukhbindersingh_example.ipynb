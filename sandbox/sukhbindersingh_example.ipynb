{
 "cells": [
  {
   "cell_type": "markdown",
   "metadata": {},
   "source": [
    "Inspiration and code copied from [Sukhbinder](https://sukhbinder.wordpress.com/2016/05/10/quick-gantt-chart-with-matplotlib/)"
   ]
  },
  {
   "cell_type": "code",
   "execution_count": null,
   "metadata": {
    "collapsed": true
   },
   "outputs": [],
   "source": [
    "\"\"\"\n",
    "GANTT Chart with Matplotlib\n",
    "Sukhbinder\n",
    "Inspired from\n",
    "<div class=\"embed-theclowersgroup\"><blockquote class=\"wp-embedded-content\"><a href=\"http://www.clowersresearch.com/main/gantt-charts-in-matplotlib/\">Gantt Charts in Matplotlib</a></blockquote><script type=\"text/javascript\"><!--//--><![CDATA[//><!--        !function(a,b){\"use strict\";function c(){if(!e){e=!0;var a,c,d,f,g=-1!==navigator.appVersion.indexOf(\"MSIE 10\"),h=!!navigator.userAgent.match(/Trident.*rv:11./),i=b.querySelectorAll(\"iframe.wp-embedded-content\");for(c=0;c<i.length;c++)if(d=i[c],!d.getAttribute(\"data-secret\")){if(f=Math.random().toString(36).substr(2,10),d.src+=\"#?secret=\"+f,d.setAttribute(\"data-secret\",f),g||h)a=d.cloneNode(!0),a.removeAttribute(\"security\"),d.parentNode.replaceChild(a,d)}else;}}var d=!1,e=!1;if(b.querySelector)if(a.addEventListener)d=!0;if(a.wp=a.wp||{},!a.wp.receiveEmbedMessage)if(a.wp.receiveEmbedMessage=function(c){var d=c.data;if(d.secret||d.message||d.value)if(!/[^a-zA-Z0-9]/.test(d.secret)){var e,f,g,h,i,j=b.querySelectorAll('iframe[data-secret=\"'+d.secret+'\"]'),k=b.querySelectorAll('blockquote[data-secret=\"'+d.secret+'\"]');for(e=0;e<k.length;e++)k[e].style.display=\"none\";for(e=0;e<j.length;e++)if(f=j[e],c.source===f.contentWindow){if(f.removeAttribute(\"style\"),\"height\"===d.message){if(g=parseInt(d.value,10),g>1e3)g=1e3;else if(200>~~g)g=200;f.height=g}if(\"link\"===d.message)if(h=b.createElement(\"a\"),i=b.createElement(\"a\"),h.href=f.getAttribute(\"src\"),i.href=d.value,i.host===h.host)if(b.activeElement===f)a.top.location.href=d.value}else;}},d)a.addEventListener(\"message\",a.wp.receiveEmbedMessage,!1),b.addEventListener(\"DOMContentLoaded\",c,!1),a.addEventListener(\"load\",c,!1)}(window,document);//--><!]]></script><iframe sandbox=\"allow-scripts\" security=\"restricted\" src=\"http://www.clowersresearch.com/main/gantt-charts-in-matplotlib/embed/\" width=\"600\" height=\"338\" title=\"“Gantt Charts in Matplotlib” — The Clowers Group\" frameborder=\"0\" marginwidth=\"0\" marginheight=\"0\" scrolling=\"no\" class=\"wp-embedded-content\"></iframe></div>\n",
    "\"\"\"\n",
    "import datetime as dt\n",
    "import matplotlib.pyplot as plt\n",
    "import matplotlib.font_manager as font_manager\n",
    "import matplotlib.dates\n",
    "from matplotlib.dates import WEEKLY,MONTHLY, DateFormatter, rrulewrapper, RRuleLocator \n",
    "import numpy as np\n",
    "\n",
    "%matplotlib notebook\n",
    "  \n"
   ]
  },
  {
   "cell_type": "code",
   "execution_count": null,
   "metadata": {
    "collapsed": true
   },
   "outputs": [],
   "source": [
    "def _create_date(datetxt):\n",
    "    \"\"\"Creates the date\"\"\"\n",
    "    day,month,year=datetxt.split('-')\n",
    "    date = dt.datetime(int(year), int(month), int(day))\n",
    "    mdate = matplotlib.dates.date2num(date) \n",
    "    return mdate\n",
    " \n",
    "def CreateGanttChart(fname):\n",
    "    \"\"\"\n",
    "        Create gantt charts with matplotlib\n",
    "        Give file name.\n",
    "    \"\"\" \n",
    "    ylabels = []\n",
    "    customDates = []\n",
    "    try:\n",
    "        textlist=open(fname).readlines()\n",
    "    except:\n",
    "        return\n",
    "#\n",
    "    for tx in textlist:\n",
    "        if not tx.startswith('#'):\n",
    "            ylabel,startdate,enddate=tx.split(',')\n",
    "            ylabels.append(ylabel.replace('\\n',''))\n",
    "            customDates.append([_create_date(startdate.replace('\\n','')),_create_date(enddate.replace('\\n',''))])\n",
    "             \n",
    "    ilen=len(ylabels)\n",
    "    pos = np.arange(0.5,ilen*0.5+0.5,0.5)\n",
    "    task_dates = {}\n",
    "    for i,task in enumerate(ylabels):\n",
    "        task_dates[task] = customDates[i]\n",
    "    fig = plt.figure(figsize=(10,4))\n",
    "    ax = fig.add_subplot(111)\n",
    "    for i in range(len(ylabels)):\n",
    "         start_date,end_date = task_dates[ylabels[i]]\n",
    "         ax.barh((i*0.5)+0.5, end_date - start_date, left=start_date, height=0.3, align='center', edgecolor='lightgreen', color='orange', alpha = 0.8)\n",
    "    locsy, labelsy = plt.yticks(pos,ylabels)\n",
    "    plt.setp(labelsy, fontsize = 14)\n",
    "#    ax.axis('tight')\n",
    "    ax.set_ylim(ymin = -0.1, ymax = ilen*0.5+0.5)\n",
    "    ax.grid(color = 'g', linestyle = ':')\n",
    "    ax.xaxis_date()\n",
    "    rule = rrulewrapper(WEEKLY, interval=1)\n",
    "    loc = RRuleLocator(rule)\n",
    "    #formatter = DateFormatter(\"%d-%b '%y\")\n",
    "    formatter = DateFormatter(\"%d-%b\")\n",
    "  \n",
    "    ax.xaxis.set_major_locator(loc)\n",
    "    ax.xaxis.set_major_formatter(formatter)\n",
    "    labelsx = ax.get_xticklabels()\n",
    "    plt.setp(labelsx, rotation=30, fontsize=10)\n",
    " \n",
    "    font = font_manager.FontProperties(size='small')\n",
    "    ax.legend(loc=1,prop=font)\n",
    " \n",
    "    ax.invert_yaxis()\n",
    "    fig.autofmt_xdate()\n",
    "    plt.savefig('gantt.svg')\n",
    " "
   ]
  },
  {
   "cell_type": "code",
   "execution_count": null,
   "metadata": {},
   "outputs": [],
   "source": [
    "CreateGanttChart('sbs_input.txt')\n"
   ]
  },
  {
   "cell_type": "code",
   "execution_count": null,
   "metadata": {
    "collapsed": true
   },
   "outputs": [],
   "source": []
  }
 ],
 "metadata": {
  "kernelspec": {
   "display_name": "Python 3",
   "language": "python",
   "name": "python3"
  },
  "language_info": {
   "codemirror_mode": {
    "name": "ipython",
    "version": 3
   },
   "file_extension": ".py",
   "mimetype": "text/x-python",
   "name": "python",
   "nbconvert_exporter": "python",
   "pygments_lexer": "ipython3",
   "version": "3.6.2"
  }
 },
 "nbformat": 4,
 "nbformat_minor": 2
}
